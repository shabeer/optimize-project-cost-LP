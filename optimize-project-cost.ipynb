{
 "cells": [
  {
   "cell_type": "markdown",
   "metadata": {},
   "source": [
    "## Optimize project cost given project constraints. Formulate it as constraint optimization problem and solve it."
   ]
  },
  {
   "cell_type": "markdown",
   "metadata": {},
   "source": [
    "## Problem Description\n",
    "\n",
    "#### In project management, we frequently encounter requirements to plan project such that overall project is completed within committed time to customers/users, but with minimal cost. This is clearly a optimization problem. Below we formulate it as Linear Programming(LP) problem and resolve it using PuLP, the python LP solver.\n",
    "\n",
    "### <span style=\"color:red\">Aim</span>\n",
    "### <span style=\"color:green\">We want optimize/minimize the project cost such that project duration is within K weeks</span>\n",
    "\n",
    "#### Project tasks, their inter dependencies, normal durations, normal costs, crashing durations and crashing costs are given. \n",
    "\n",
    "#### Crashing means max extent to which task duration can be decreased, but with increased costs. For eg: A task with normal duration of 1 week with normal cost of 100 dollars, might be decreased to 0.5 weeks(crashing duration) with a (crashing) cost increased to 160 dollars.\n",
    "\n",
    "#### Tools used: \n",
    "1. PuLP (python Linear programming library) with CBC and GLPK backend solvers.\n",
    "2. Numpy\n",
    "3. Pandas"
   ]
  },
  {
   "cell_type": "code",
   "execution_count": 1,
   "metadata": {
    "collapsed": true
   },
   "outputs": [],
   "source": [
    "# pip install pulp \n",
    "# sudo apt-get install coinor-cbc glpk-utils"
   ]
  },
  {
   "cell_type": "code",
   "execution_count": 2,
   "metadata": {
    "collapsed": true
   },
   "outputs": [],
   "source": [
    "import pandas as pd\n",
    "import numpy as np"
   ]
  },
  {
   "cell_type": "markdown",
   "metadata": {},
   "source": [
    "##### Import project tasks, their inter dependencies, normal durations, normal costs, crashing durations and crashing costs. This data is taken from https://www.linearprogramming.info/formulation-and-resolution-of-a-model-of-linear-programming-to-reduce-the-duration-of-a-project-crashing/"
   ]
  },
  {
   "cell_type": "code",
   "execution_count": 3,
   "metadata": {},
   "outputs": [
    {
     "data": {
      "text/html": [
       "<div>\n",
       "<style>\n",
       "    .dataframe thead tr:only-child th {\n",
       "        text-align: right;\n",
       "    }\n",
       "\n",
       "    .dataframe thead th {\n",
       "        text-align: left;\n",
       "    }\n",
       "\n",
       "    .dataframe tbody tr th {\n",
       "        vertical-align: top;\n",
       "    }\n",
       "</style>\n",
       "<table border=\"1\" class=\"dataframe\">\n",
       "  <thead>\n",
       "    <tr style=\"text-align: right;\">\n",
       "      <th></th>\n",
       "      <th>prerequisite_tasks</th>\n",
       "      <th>normal_duration_weeks</th>\n",
       "      <th>normal_cost_dollars</th>\n",
       "      <th>crashing_duration_weeks</th>\n",
       "      <th>crashing_cost_dollars</th>\n",
       "    </tr>\n",
       "    <tr>\n",
       "      <th>task</th>\n",
       "      <th></th>\n",
       "      <th></th>\n",
       "      <th></th>\n",
       "      <th></th>\n",
       "      <th></th>\n",
       "    </tr>\n",
       "  </thead>\n",
       "  <tbody>\n",
       "    <tr>\n",
       "      <th>A</th>\n",
       "      <td></td>\n",
       "      <td>1.0</td>\n",
       "      <td>100</td>\n",
       "      <td>0.5</td>\n",
       "      <td>140</td>\n",
       "    </tr>\n",
       "    <tr>\n",
       "      <th>B</th>\n",
       "      <td>A</td>\n",
       "      <td>3.0</td>\n",
       "      <td>150</td>\n",
       "      <td>1.0</td>\n",
       "      <td>270</td>\n",
       "    </tr>\n",
       "    <tr>\n",
       "      <th>C</th>\n",
       "      <td>A</td>\n",
       "      <td>1.0</td>\n",
       "      <td>120</td>\n",
       "      <td>0.5</td>\n",
       "      <td>160</td>\n",
       "    </tr>\n",
       "    <tr>\n",
       "      <th>D</th>\n",
       "      <td>B,C</td>\n",
       "      <td>1.0</td>\n",
       "      <td>10</td>\n",
       "      <td>1.0</td>\n",
       "      <td>10</td>\n",
       "    </tr>\n",
       "    <tr>\n",
       "      <th>E</th>\n",
       "      <td>D</td>\n",
       "      <td>1.0</td>\n",
       "      <td>225</td>\n",
       "      <td>0.5</td>\n",
       "      <td>300</td>\n",
       "    </tr>\n",
       "    <tr>\n",
       "      <th>F</th>\n",
       "      <td>D</td>\n",
       "      <td>3.0</td>\n",
       "      <td>500</td>\n",
       "      <td>2.0</td>\n",
       "      <td>700</td>\n",
       "    </tr>\n",
       "    <tr>\n",
       "      <th>G</th>\n",
       "      <td>D</td>\n",
       "      <td>3.0</td>\n",
       "      <td>400</td>\n",
       "      <td>1.0</td>\n",
       "      <td>500</td>\n",
       "    </tr>\n",
       "    <tr>\n",
       "      <th>H</th>\n",
       "      <td>G</td>\n",
       "      <td>1.0</td>\n",
       "      <td>150</td>\n",
       "      <td>0.5</td>\n",
       "      <td>170</td>\n",
       "    </tr>\n",
       "    <tr>\n",
       "      <th>I</th>\n",
       "      <td>F,H</td>\n",
       "      <td>1.5</td>\n",
       "      <td>75</td>\n",
       "      <td>0.5</td>\n",
       "      <td>135</td>\n",
       "    </tr>\n",
       "    <tr>\n",
       "      <th>J</th>\n",
       "      <td>I</td>\n",
       "      <td>1.0</td>\n",
       "      <td>350</td>\n",
       "      <td>0.5</td>\n",
       "      <td>385</td>\n",
       "    </tr>\n",
       "    <tr>\n",
       "      <th>K</th>\n",
       "      <td>I</td>\n",
       "      <td>3.0</td>\n",
       "      <td>450</td>\n",
       "      <td>2.0</td>\n",
       "      <td>540</td>\n",
       "    </tr>\n",
       "    <tr>\n",
       "      <th>L</th>\n",
       "      <td>K</td>\n",
       "      <td>2.0</td>\n",
       "      <td>90</td>\n",
       "      <td>1.5</td>\n",
       "      <td>160</td>\n",
       "    </tr>\n",
       "  </tbody>\n",
       "</table>\n",
       "</div>"
      ],
      "text/plain": [
       "     prerequisite_tasks  normal_duration_weeks  normal_cost_dollars  \\\n",
       "task                                                                  \n",
       "A                                          1.0                  100   \n",
       "B                     A                    3.0                  150   \n",
       "C                     A                    1.0                  120   \n",
       "D                   B,C                    1.0                   10   \n",
       "E                     D                    1.0                  225   \n",
       "F                     D                    3.0                  500   \n",
       "G                     D                    3.0                  400   \n",
       "H                     G                    1.0                  150   \n",
       "I                   F,H                    1.5                   75   \n",
       "J                     I                    1.0                  350   \n",
       "K                     I                    3.0                  450   \n",
       "L                     K                    2.0                   90   \n",
       "\n",
       "      crashing_duration_weeks  crashing_cost_dollars  \n",
       "task                                                  \n",
       "A                         0.5                    140  \n",
       "B                         1.0                    270  \n",
       "C                         0.5                    160  \n",
       "D                         1.0                     10  \n",
       "E                         0.5                    300  \n",
       "F                         2.0                    700  \n",
       "G                         1.0                    500  \n",
       "H                         0.5                    170  \n",
       "I                         0.5                    135  \n",
       "J                         0.5                    385  \n",
       "K                         2.0                    540  \n",
       "L                         1.5                    160  "
      ]
     },
     "execution_count": 3,
     "metadata": {},
     "output_type": "execute_result"
    }
   ],
   "source": [
    "# task_details is stored in pandas dataframe df\n",
    "df = pd.read_csv(\"./task_details.csv\",index_col = ['task'])\n",
    "df"
   ]
  },
  {
   "cell_type": "markdown",
   "metadata": {},
   "source": [
    "In above, critical path is A-B-D-G-H-I-K-L."
   ]
  },
  {
   "cell_type": "code",
   "execution_count": 4,
   "metadata": {},
   "outputs": [
    {
     "name": "stdout",
     "output_type": "stream",
     "text": [
      "Normal Project cost is  2620  dollars\n"
     ]
    }
   ],
   "source": [
    "normal_project_cost = np.sum(df['normal_cost_dollars'])\n",
    "print \"Normal Project cost is \", normal_project_cost, \" dollars\""
   ]
  },
  {
   "cell_type": "code",
   "execution_count": 5,
   "metadata": {},
   "outputs": [
    {
     "name": "stdout",
     "output_type": "stream",
     "text": [
      "Normal Project duration is  15.5  weeks\n"
     ]
    }
   ],
   "source": [
    "# tasks in critical path\n",
    "critical_tasks = ['A','B','D','G','H','I','K','L']\n",
    "df1 = df.loc[df.index.isin(critical_tasks)]\n",
    "normal_project_duration = np.sum(df1['normal_duration_weeks'])\n",
    "print \"Normal Project duration is \", normal_project_duration, \" weeks\""
   ]
  },
  {
   "cell_type": "markdown",
   "metadata": {},
   "source": [
    "## Pre-process and augment input data with useful parameters"
   ]
  },
  {
   "cell_type": "markdown",
   "metadata": {},
   "source": [
    "#### 1. Add a fictituous task M to mark completion of project. i.e task M has dependency on all other tasks and with 0 cost and 0 duration"
   ]
  },
  {
   "cell_type": "code",
   "execution_count": 6,
   "metadata": {},
   "outputs": [
    {
     "data": {
      "text/plain": [
       "prerequisite_tasks         A,B,C,D,E,F,G,H,I,J,K,L\n",
       "normal_duration_weeks                            0\n",
       "normal_cost_dollars                              0\n",
       "crashing_duration_weeks                          0\n",
       "crashing_cost_dollars                            0\n",
       "Name: M, dtype: object"
      ]
     },
     "execution_count": 6,
     "metadata": {},
     "output_type": "execute_result"
    }
   ],
   "source": [
    "df.loc['M'] = [\"A,B,C,D,E,F,G,H,I,J,K,L\", 0, 0, 0, 0]\n",
    "df.loc['M']"
   ]
  },
  {
   "cell_type": "markdown",
   "metadata": {},
   "source": [
    "#### 2. Compute crash cost per week for each task i.e extra cost if duration is reduced by one week."
   ]
  },
  {
   "cell_type": "code",
   "execution_count": 7,
   "metadata": {},
   "outputs": [
    {
     "data": {
      "text/plain": [
       "True"
      ]
     },
     "execution_count": 7,
     "metadata": {},
     "output_type": "execute_result"
    }
   ],
   "source": [
    "df['crash_cost_per_week'] =(df['crashing_cost_dollars'] - df['normal_cost_dollars']) / \\\n",
    "                           (df['normal_duration_weeks'] - df['crashing_duration_weeks'])\n",
    "\n",
    "df['crash_cost_per_week'] = df['crash_cost_per_week'].fillna(0)\n",
    "# Assert crash cost per week for task B and M. It should be 60 and 0 respectively.\n",
    "df.loc['B']['crash_cost_per_week'] == 60 and df.loc['M']['crash_cost_per_week'] == 0"
   ]
  },
  {
   "cell_type": "markdown",
   "metadata": {},
   "source": [
    "#### 3. Compute max duration by which task duration can be reduced. \n",
    "\n",
    "For eg: task G can be reduced by 2 weeks to crashing duration of 1 week."
   ]
  },
  {
   "cell_type": "code",
   "execution_count": 8,
   "metadata": {},
   "outputs": [
    {
     "data": {
      "text/plain": [
       "True"
      ]
     },
     "execution_count": 8,
     "metadata": {},
     "output_type": "execute_result"
    }
   ],
   "source": [
    "df['max_reduction_duration_weeks'] = df['normal_duration_weeks'] - df['crashing_duration_weeks']\n",
    "# Assert max reduction possible for task G - it should be 2.0 weeks.\n",
    "df.loc['G']['max_reduction_duration_weeks'] == 2"
   ]
  },
  {
   "cell_type": "markdown",
   "metadata": {},
   "source": [
    "## Identify the decision variables"
   ]
  },
  {
   "cell_type": "markdown",
   "metadata": {},
   "source": [
    "Since we have a constraint that project duration should be within K weeks, we need to decide which task starts when and which we need to crash. "
   ]
  },
  {
   "cell_type": "markdown",
   "metadata": {},
   "source": [
    "s_i = week at which task i is started. For eg: task B is started at week 1\n",
    "\n",
    "r_i = weeks by which task i is reduced with max reduction being crashing_duration_weeks.<br>&nbsp;&nbsp;&nbsp;&nbsp;\n",
    "      For eg: Duration of task B can be reduced from 3.0 to 1.0 (i.e r_i value = 2.0) with crashing cost of 270$.\n",
    "\n",
    "i in ('A' to 'M')"
   ]
  },
  {
   "cell_type": "markdown",
   "metadata": {},
   "source": [
    "### Other variables"
   ]
  },
  {
   "cell_type": "markdown",
   "metadata": {},
   "source": [
    "n_i = normal duration of task i\n",
    "\n",
    "mr_i = max reduction in weeks possible for task i\n",
    "\n",
    "ccpw_i = crashing cost per week of task i\n",
    "\n",
    "K = max duration in weeks, constraint given for project completion\n"
   ]
  },
  {
   "cell_type": "markdown",
   "metadata": {},
   "source": [
    "## Formulate the objective function"
   ]
  },
  {
   "cell_type": "markdown",
   "metadata": {},
   "source": [
    "Minimize the extra cost of reducing tasks duration i.e \n",
    "\n",
    "sum (ccpw_i * r_i)   for all tasks i in A to M"
   ]
  },
  {
   "cell_type": "markdown",
   "metadata": {},
   "source": [
    "## The constraints"
   ]
  },
  {
   "cell_type": "markdown",
   "metadata": {},
   "source": [
    "1. s_M <= K  i.e task M should be started and completed(since duration is 0) within K weeks to mark project completion.\n",
    "\n",
    "2. r_i <= rm_i  i.e task i can be reduced at max by rm_i weeks.\n",
    "\n",
    "3. s_B >= n_A + s_A - r_A , task B can be started only after task A is completed\n",
    "\n",
    "4. s_C >= n_A + s_A - r_A , task C can be started only after task A is completed\n",
    "\n",
    "5. s_D >= n_B + s_B - r_B , task D can be started only after task B is completed\n",
    "\n",
    "6. s_D >= n_C + s_C - r_C , task D can be started only after task C is completed\n",
    "\n",
    "7. s_E >= n_D + s_D - r_D , task E can be started only after task D is completed\n",
    "\n",
    "8. s_F >= n_D + s_D - r_D , task F can be started only after task D is completed\n",
    "\n",
    "9. s_G >= n_D + s_D - r_D , task G can be started only after task D is completed\n",
    "\n",
    "10. s_H >= n_G + s_G - r_G , task H can be started only after task G is completed\n",
    "\n",
    "11. s_I >= n_F + s_F - r_F , task I can be started only after task F is completed\n",
    "\n",
    "12. s_I >= n_H + s_H - r_H , task I can be started only after task H is completed\n",
    "\n",
    "13. s_J >= n_I + s_I - r_I , task J can be started only after task I is completed\n",
    "\n",
    "14. s_K >= n_I + s_I - r_I , task K can be started only after task I is completed\n",
    "\n",
    "15. s_L >= n_K + s_K - r_K , task L can be started only after task K is completed\n",
    "\n",
    "16. s_M >= n_i + s_i - r_i , task M can be started only after all tasks i are completed\n",
    "\n",
    "\n",
    "Decision variables are non-negative.\n",
    "\n",
    "1. s_i >= 0  i.e week at which task i starts should be non-negative week\n",
    "\n",
    "2. r_i >= 0  i.e task i can be reduced by non-negative weeks"
   ]
  },
  {
   "cell_type": "markdown",
   "metadata": {},
   "source": [
    "## Solving using PuLP LP python solver"
   ]
  },
  {
   "cell_type": "code",
   "execution_count": 9,
   "metadata": {
    "collapsed": true
   },
   "outputs": [],
   "source": [
    "import pulp\n",
    "prob = pulp.LpProblem(name = \"Reducing project cost\", sense = pulp.LpMinimize)\n",
    "\n",
    "#max duration in weeks, constraint/deadline given for project completion\n",
    "K = 9.5"
   ]
  },
  {
   "cell_type": "code",
   "execution_count": 10,
   "metadata": {},
   "outputs": [
    {
     "data": {
      "text/plain": [
       "{'A': s_A,\n",
       " 'B': s_B,\n",
       " 'C': s_C,\n",
       " 'D': s_D,\n",
       " 'E': s_E,\n",
       " 'F': s_F,\n",
       " 'G': s_G,\n",
       " 'H': s_H,\n",
       " 'I': s_I,\n",
       " 'J': s_J,\n",
       " 'K': s_K,\n",
       " 'L': s_L,\n",
       " 'M': s_M}"
      ]
     },
     "execution_count": 10,
     "metadata": {},
     "output_type": "execute_result"
    }
   ],
   "source": [
    "# Decision variables\n",
    "s = pulp.LpVariable.dicts(name =\"s\", indexs = (df.index) , lowBound=0, cat = 'Continuous')\n",
    "s"
   ]
  },
  {
   "cell_type": "code",
   "execution_count": 11,
   "metadata": {},
   "outputs": [
    {
     "data": {
      "text/plain": [
       "{'A': r_A,\n",
       " 'B': r_B,\n",
       " 'C': r_C,\n",
       " 'D': r_D,\n",
       " 'E': r_E,\n",
       " 'F': r_F,\n",
       " 'G': r_G,\n",
       " 'H': r_H,\n",
       " 'I': r_I,\n",
       " 'J': r_J,\n",
       " 'K': r_K,\n",
       " 'L': r_L,\n",
       " 'M': r_M}"
      ]
     },
     "execution_count": 11,
     "metadata": {},
     "output_type": "execute_result"
    }
   ],
   "source": [
    "r = pulp.LpVariable.dicts(name = 'r', indexs = (df.index), lowBound=0, cat='Integer')\n",
    "r"
   ]
  },
  {
   "cell_type": "code",
   "execution_count": 12,
   "metadata": {
    "collapsed": true
   },
   "outputs": [],
   "source": [
    "# Objective function\n",
    "# sum of ccpw_i * r_i for all tasks i in A to M\n",
    "prob += pulp.lpSum([r[task] * df.loc[task]['crash_cost_per_week'] \\\n",
    "                    for task in df.index])"
   ]
  },
  {
   "cell_type": "code",
   "execution_count": 13,
   "metadata": {
    "collapsed": true
   },
   "outputs": [],
   "source": [
    "# Constraints\n",
    "prob += s['M'] <= K, \"task M should be started and completed within K=\"+ str(K) + \" weeks.\"\n",
    "\n",
    "for task in df.index:\n",
    "    rm_i = df.loc[task]['max_reduction_duration_weeks']\n",
    "    n_i  = df.loc[task]['normal_duration_weeks']\n",
    "    dep  = df.loc[task]['prerequisite_tasks']\n",
    "    \n",
    "    prob += r[task] <= rm_i, \"task \" + task + \" can be reduced at max by \" + str(rm_i) + \" weeks.\"\n",
    "    prob += s[task] >= 0   , \"week at which task \" + task + \" starts should be non-negative \"\n",
    "    prob += r[task] >= 0   , \"task \" + task + \" can be reduced by non-negative weeks\"\n",
    "        \n",
    "    # Clean up prequisite tasks and parse it.    \n",
    "    if dep.strip() != '' and dep.strip() != ',':\n",
    "        dep_tasks = dep.split(',')\n",
    "        for dep_i in dep_tasks:\n",
    "            prob +=  s[task] >= df.loc[dep_i]['normal_duration_weeks'] + s[dep_i] -r[dep_i],\\\n",
    "                    \"Task \" + task + \" can be started only after task \" + dep_i + \" is completed\"\n"
   ]
  },
  {
   "cell_type": "code",
   "execution_count": 14,
   "metadata": {},
   "outputs": [
    {
     "name": "stdout",
     "output_type": "stream",
     "text": [
      "Reducing project cost:\n",
      "MINIMIZE\n",
      "80.0*r_A + 60.0*r_B + 80.0*r_C + 150.0*r_E + 200.0*r_F + 50.0*r_G + 40.0*r_H + 60.0*r_I + 70.0*r_J + 90.0*r_K + 140.0*r_L + 0.0\n",
      "SUBJECT TO\n",
      "task_M_should_be_started_and_completed_within_K=9.5_weeks.: s_M <= 9.5\n",
      "\n",
      "task_A_can_be_reduced_at_max_by_0.5_weeks.: r_A <= 0.5\n",
      "\n",
      "week_at_which_task_A_starts_should_be_non_negative_: s_A >= 0\n",
      "\n",
      "task_A_can_be_reduced_by_non_negative_weeks: r_A >= 0\n",
      "\n",
      "task_B_can_be_reduced_at_max_by_2.0_weeks.: r_B <= 2\n",
      "\n",
      "week_at_which_task_B_starts_should_be_non_negative_: s_B >= 0\n",
      "\n",
      "task_B_can_be_reduced_by_non_negative_weeks: r_B >= 0\n",
      "\n",
      "Task_B_can_be_started_only_after_task_A_is_completed: r_A - s_A + s_B >= 1\n",
      "\n",
      "task_C_can_be_reduced_at_max_by_0.5_weeks.: r_C <= 0.5\n",
      "\n",
      "week_at_which_task_C_starts_should_be_non_negative_: s_C >= 0\n",
      "\n",
      "task_C_can_be_reduced_by_non_negative_weeks: r_C >= 0\n",
      "\n",
      "Task_C_can_be_started_only_after_task_A_is_completed: r_A - s_A + s_C >= 1\n",
      "\n",
      "task_D_can_be_reduced_at_max_by_0.0_weeks.: r_D <= 0\n",
      "\n",
      "week_at_which_task_D_starts_should_be_non_negative_: s_D >= 0\n",
      "\n",
      "task_D_can_be_reduced_by_non_negative_weeks: r_D >= 0\n",
      "\n",
      "Task_D_can_be_started_only_after_task_B_is_completed: r_B - s_B + s_D >= 3\n",
      "\n",
      "Task_D_can_be_started_only_after_task_C_is_completed: r_C - s_C + s_D >= 1\n",
      "\n",
      "task_E_can_be_reduced_at_max_by_0.5_weeks.: r_E <= 0.5\n",
      "\n",
      "week_at_which_task_E_starts_should_be_non_negative_: s_E >= 0\n",
      "\n",
      "task_E_can_be_reduced_by_non_negative_weeks: r_E >= 0\n",
      "\n",
      "Task_E_can_be_started_only_after_task_D_is_completed: r_D - s_D + s_E >= 1\n",
      "\n",
      "task_F_can_be_reduced_at_max_by_1.0_weeks.: r_F <= 1\n",
      "\n",
      "week_at_which_task_F_starts_should_be_non_negative_: s_F >= 0\n",
      "\n",
      "task_F_can_be_reduced_by_non_negative_weeks: r_F >= 0\n",
      "\n",
      "Task_F_can_be_started_only_after_task_D_is_completed: r_D - s_D + s_F >= 1\n",
      "\n",
      "task_G_can_be_reduced_at_max_by_2.0_weeks.: r_G <= 2\n",
      "\n",
      "week_at_which_task_G_starts_should_be_non_negative_: s_G >= 0\n",
      "\n",
      "task_G_can_be_reduced_by_non_negative_weeks: r_G >= 0\n",
      "\n",
      "Task_G_can_be_started_only_after_task_D_is_completed: r_D - s_D + s_G >= 1\n",
      "\n",
      "task_H_can_be_reduced_at_max_by_0.5_weeks.: r_H <= 0.5\n",
      "\n",
      "week_at_which_task_H_starts_should_be_non_negative_: s_H >= 0\n",
      "\n",
      "task_H_can_be_reduced_by_non_negative_weeks: r_H >= 0\n",
      "\n",
      "Task_H_can_be_started_only_after_task_G_is_completed: r_G - s_G + s_H >= 3\n",
      "\n",
      "task_I_can_be_reduced_at_max_by_1.0_weeks.: r_I <= 1\n",
      "\n",
      "week_at_which_task_I_starts_should_be_non_negative_: s_I >= 0\n",
      "\n",
      "task_I_can_be_reduced_by_non_negative_weeks: r_I >= 0\n",
      "\n",
      "Task_I_can_be_started_only_after_task_F_is_completed: r_F - s_F + s_I >= 3\n",
      "\n",
      "Task_I_can_be_started_only_after_task_H_is_completed: r_H - s_H + s_I >= 1\n",
      "\n",
      "task_J_can_be_reduced_at_max_by_0.5_weeks.: r_J <= 0.5\n",
      "\n",
      "week_at_which_task_J_starts_should_be_non_negative_: s_J >= 0\n",
      "\n",
      "task_J_can_be_reduced_by_non_negative_weeks: r_J >= 0\n",
      "\n",
      "Task_J_can_be_started_only_after_task_I_is_completed: r_I - s_I + s_J >= 1.5\n",
      "\n",
      "task_K_can_be_reduced_at_max_by_1.0_weeks.: r_K <= 1\n",
      "\n",
      "week_at_which_task_K_starts_should_be_non_negative_: s_K >= 0\n",
      "\n",
      "task_K_can_be_reduced_by_non_negative_weeks: r_K >= 0\n",
      "\n",
      "Task_K_can_be_started_only_after_task_I_is_completed: r_I - s_I + s_K >= 1.5\n",
      "\n",
      "task_L_can_be_reduced_at_max_by_0.5_weeks.: r_L <= 0.5\n",
      "\n",
      "week_at_which_task_L_starts_should_be_non_negative_: s_L >= 0\n",
      "\n",
      "task_L_can_be_reduced_by_non_negative_weeks: r_L >= 0\n",
      "\n",
      "Task_L_can_be_started_only_after_task_K_is_completed: r_K - s_K + s_L >= 3\n",
      "\n",
      "task_M_can_be_reduced_at_max_by_0.0_weeks.: r_M <= 0\n",
      "\n",
      "week_at_which_task_M_starts_should_be_non_negative_: s_M >= 0\n",
      "\n",
      "task_M_can_be_reduced_by_non_negative_weeks: r_M >= 0\n",
      "\n",
      "Task_M_can_be_started_only_after_task_A_is_completed: r_A - s_A + s_M >= 1\n",
      "\n",
      "Task_M_can_be_started_only_after_task_B_is_completed: r_B - s_B + s_M >= 3\n",
      "\n",
      "Task_M_can_be_started_only_after_task_C_is_completed: r_C - s_C + s_M >= 1\n",
      "\n",
      "Task_M_can_be_started_only_after_task_D_is_completed: r_D - s_D + s_M >= 1\n",
      "\n",
      "Task_M_can_be_started_only_after_task_E_is_completed: r_E - s_E + s_M >= 1\n",
      "\n",
      "Task_M_can_be_started_only_after_task_F_is_completed: r_F - s_F + s_M >= 3\n",
      "\n",
      "Task_M_can_be_started_only_after_task_G_is_completed: r_G - s_G + s_M >= 3\n",
      "\n",
      "Task_M_can_be_started_only_after_task_H_is_completed: r_H - s_H + s_M >= 1\n",
      "\n",
      "Task_M_can_be_started_only_after_task_I_is_completed: r_I - s_I + s_M >= 1.5\n",
      "\n",
      "Task_M_can_be_started_only_after_task_J_is_completed: r_J - s_J + s_M >= 1\n",
      "\n",
      "Task_M_can_be_started_only_after_task_K_is_completed: r_K - s_K + s_M >= 3\n",
      "\n",
      "Task_M_can_be_started_only_after_task_L_is_completed: r_L - s_L + s_M >= 2\n",
      "\n",
      "VARIABLES\n",
      "0 <= r_A Integer\n",
      "0 <= r_B Integer\n",
      "0 <= r_C Integer\n",
      "0 <= r_D Integer\n",
      "0 <= r_E Integer\n",
      "0 <= r_F Integer\n",
      "0 <= r_G Integer\n",
      "0 <= r_H Integer\n",
      "0 <= r_I Integer\n",
      "0 <= r_J Integer\n",
      "0 <= r_K Integer\n",
      "0 <= r_L Integer\n",
      "0 <= r_M Integer\n",
      "s_A Continuous\n",
      "s_B Continuous\n",
      "s_C Continuous\n",
      "s_D Continuous\n",
      "s_E Continuous\n",
      "s_F Continuous\n",
      "s_G Continuous\n",
      "s_H Continuous\n",
      "s_I Continuous\n",
      "s_J Continuous\n",
      "s_K Continuous\n",
      "s_L Continuous\n",
      "s_M Continuous\n",
      "\n"
     ]
    }
   ],
   "source": [
    "print(prob)"
   ]
  },
  {
   "cell_type": "code",
   "execution_count": 15,
   "metadata": {},
   "outputs": [
    {
     "name": "stdout",
     "output_type": "stream",
     "text": [
      "('Status of solver ', 'Optimal')\n",
      "('Is problem a Mixed Integer Linear programming ?: ', 'Yes')\n"
     ]
    }
   ],
   "source": [
    "# Solve our problem\n",
    "prob.solve(solver=pulp.solvers.PULP_CBC_CMD())\n",
    "#prob.solve(solver=pulp.solvers.COIN_CMD())\n",
    "#prob.solve(solver=pulp.solvers.GLPK_CMD())\n",
    "prob.writeLP(filename = \"./optimize-project-cost.lp\")\n",
    "solverStatus = pulp.LpStatus[prob.status]\n",
    "print(\"Status of solver \", solverStatus)\n",
    "print(\"Is problem a Mixed Integer Linear programming ?: \", ['No','Yes'][prob.isMIP()])\n",
    "#pint(\"Solver used: \", prob.solver.path)"
   ]
  },
  {
   "cell_type": "code",
   "execution_count": 16,
   "metadata": {},
   "outputs": [
    {
     "name": "stdout",
     "output_type": "stream",
     "text": [
      "Minimum increase in project cost with project deadline as K: 9.5 is 570.0\n"
     ]
    }
   ],
   "source": [
    "if solverStatus == \"Optimal\":\n",
    "    # Print objective function value\n",
    "    print(\"Minimum increase in project cost with project deadline as K: \" + str(K) + \" is \" \\\n",
    "          + str(pulp.value(prob.objective)))\n",
    "else:\n",
    "    print(\"Problem could not be solved. SolverStatus:\" + solverStatus )"
   ]
  },
  {
   "cell_type": "code",
   "execution_count": 17,
   "metadata": {},
   "outputs": [
    {
     "data": {
      "text/html": [
       "<div>\n",
       "<style>\n",
       "    .dataframe thead tr:only-child th {\n",
       "        text-align: right;\n",
       "    }\n",
       "\n",
       "    .dataframe thead th {\n",
       "        text-align: left;\n",
       "    }\n",
       "\n",
       "    .dataframe tbody tr th {\n",
       "        vertical-align: top;\n",
       "    }\n",
       "</style>\n",
       "<table border=\"1\" class=\"dataframe\">\n",
       "  <thead>\n",
       "    <tr style=\"text-align: right;\">\n",
       "      <th></th>\n",
       "      <th>prerequisite_tasks</th>\n",
       "      <th>normal_duration_weeks</th>\n",
       "      <th>normal_cost_dollars</th>\n",
       "      <th>crashing_duration_weeks</th>\n",
       "      <th>crashing_cost_dollars</th>\n",
       "      <th>crash_cost_per_week</th>\n",
       "      <th>max_reduction_duration_weeks</th>\n",
       "      <th>task_start_at_week</th>\n",
       "      <th>task_duration_reduced_by</th>\n",
       "    </tr>\n",
       "    <tr>\n",
       "      <th>task</th>\n",
       "      <th></th>\n",
       "      <th></th>\n",
       "      <th></th>\n",
       "      <th></th>\n",
       "      <th></th>\n",
       "      <th></th>\n",
       "      <th></th>\n",
       "      <th></th>\n",
       "      <th></th>\n",
       "    </tr>\n",
       "  </thead>\n",
       "  <tbody>\n",
       "    <tr>\n",
       "      <th>A</th>\n",
       "      <td></td>\n",
       "      <td>1.0</td>\n",
       "      <td>100</td>\n",
       "      <td>0.5</td>\n",
       "      <td>140</td>\n",
       "      <td>80.0</td>\n",
       "      <td>0.5</td>\n",
       "      <td>0.0</td>\n",
       "      <td>0.0</td>\n",
       "    </tr>\n",
       "    <tr>\n",
       "      <th>B</th>\n",
       "      <td>A</td>\n",
       "      <td>3.0</td>\n",
       "      <td>150</td>\n",
       "      <td>1.0</td>\n",
       "      <td>270</td>\n",
       "      <td>60.0</td>\n",
       "      <td>2.0</td>\n",
       "      <td>1.0</td>\n",
       "      <td>2.0</td>\n",
       "    </tr>\n",
       "    <tr>\n",
       "      <th>C</th>\n",
       "      <td>A</td>\n",
       "      <td>1.0</td>\n",
       "      <td>120</td>\n",
       "      <td>0.5</td>\n",
       "      <td>160</td>\n",
       "      <td>80.0</td>\n",
       "      <td>0.5</td>\n",
       "      <td>1.0</td>\n",
       "      <td>0.0</td>\n",
       "    </tr>\n",
       "    <tr>\n",
       "      <th>D</th>\n",
       "      <td>B,C</td>\n",
       "      <td>1.0</td>\n",
       "      <td>10</td>\n",
       "      <td>1.0</td>\n",
       "      <td>10</td>\n",
       "      <td>0.0</td>\n",
       "      <td>0.0</td>\n",
       "      <td>2.0</td>\n",
       "      <td>0.0</td>\n",
       "    </tr>\n",
       "    <tr>\n",
       "      <th>E</th>\n",
       "      <td>D</td>\n",
       "      <td>1.0</td>\n",
       "      <td>225</td>\n",
       "      <td>0.5</td>\n",
       "      <td>300</td>\n",
       "      <td>150.0</td>\n",
       "      <td>0.5</td>\n",
       "      <td>8.5</td>\n",
       "      <td>0.0</td>\n",
       "    </tr>\n",
       "    <tr>\n",
       "      <th>F</th>\n",
       "      <td>D</td>\n",
       "      <td>3.0</td>\n",
       "      <td>500</td>\n",
       "      <td>2.0</td>\n",
       "      <td>700</td>\n",
       "      <td>200.0</td>\n",
       "      <td>1.0</td>\n",
       "      <td>3.0</td>\n",
       "      <td>1.0</td>\n",
       "    </tr>\n",
       "    <tr>\n",
       "      <th>G</th>\n",
       "      <td>D</td>\n",
       "      <td>3.0</td>\n",
       "      <td>400</td>\n",
       "      <td>1.0</td>\n",
       "      <td>500</td>\n",
       "      <td>50.0</td>\n",
       "      <td>2.0</td>\n",
       "      <td>3.0</td>\n",
       "      <td>2.0</td>\n",
       "    </tr>\n",
       "    <tr>\n",
       "      <th>H</th>\n",
       "      <td>G</td>\n",
       "      <td>1.0</td>\n",
       "      <td>150</td>\n",
       "      <td>0.5</td>\n",
       "      <td>170</td>\n",
       "      <td>40.0</td>\n",
       "      <td>0.5</td>\n",
       "      <td>4.0</td>\n",
       "      <td>0.0</td>\n",
       "    </tr>\n",
       "    <tr>\n",
       "      <th>I</th>\n",
       "      <td>F,H</td>\n",
       "      <td>1.5</td>\n",
       "      <td>75</td>\n",
       "      <td>0.5</td>\n",
       "      <td>135</td>\n",
       "      <td>60.0</td>\n",
       "      <td>1.0</td>\n",
       "      <td>5.0</td>\n",
       "      <td>1.0</td>\n",
       "    </tr>\n",
       "    <tr>\n",
       "      <th>J</th>\n",
       "      <td>I</td>\n",
       "      <td>1.0</td>\n",
       "      <td>350</td>\n",
       "      <td>0.5</td>\n",
       "      <td>385</td>\n",
       "      <td>70.0</td>\n",
       "      <td>0.5</td>\n",
       "      <td>8.5</td>\n",
       "      <td>0.0</td>\n",
       "    </tr>\n",
       "    <tr>\n",
       "      <th>K</th>\n",
       "      <td>I</td>\n",
       "      <td>3.0</td>\n",
       "      <td>450</td>\n",
       "      <td>2.0</td>\n",
       "      <td>540</td>\n",
       "      <td>90.0</td>\n",
       "      <td>1.0</td>\n",
       "      <td>5.5</td>\n",
       "      <td>1.0</td>\n",
       "    </tr>\n",
       "    <tr>\n",
       "      <th>L</th>\n",
       "      <td>K</td>\n",
       "      <td>2.0</td>\n",
       "      <td>90</td>\n",
       "      <td>1.5</td>\n",
       "      <td>160</td>\n",
       "      <td>140.0</td>\n",
       "      <td>0.5</td>\n",
       "      <td>7.5</td>\n",
       "      <td>0.0</td>\n",
       "    </tr>\n",
       "    <tr>\n",
       "      <th>M</th>\n",
       "      <td>A,B,C,D,E,F,G,H,I,J,K,L</td>\n",
       "      <td>0.0</td>\n",
       "      <td>0</td>\n",
       "      <td>0.0</td>\n",
       "      <td>0</td>\n",
       "      <td>0.0</td>\n",
       "      <td>0.0</td>\n",
       "      <td>9.5</td>\n",
       "      <td>0.0</td>\n",
       "    </tr>\n",
       "  </tbody>\n",
       "</table>\n",
       "</div>"
      ],
      "text/plain": [
       "           prerequisite_tasks  normal_duration_weeks  normal_cost_dollars  \\\n",
       "task                                                                        \n",
       "A                                                1.0                  100   \n",
       "B                           A                    3.0                  150   \n",
       "C                           A                    1.0                  120   \n",
       "D                         B,C                    1.0                   10   \n",
       "E                           D                    1.0                  225   \n",
       "F                           D                    3.0                  500   \n",
       "G                           D                    3.0                  400   \n",
       "H                           G                    1.0                  150   \n",
       "I                         F,H                    1.5                   75   \n",
       "J                           I                    1.0                  350   \n",
       "K                           I                    3.0                  450   \n",
       "L                           K                    2.0                   90   \n",
       "M     A,B,C,D,E,F,G,H,I,J,K,L                    0.0                    0   \n",
       "\n",
       "      crashing_duration_weeks  crashing_cost_dollars  crash_cost_per_week  \\\n",
       "task                                                                        \n",
       "A                         0.5                    140                 80.0   \n",
       "B                         1.0                    270                 60.0   \n",
       "C                         0.5                    160                 80.0   \n",
       "D                         1.0                     10                  0.0   \n",
       "E                         0.5                    300                150.0   \n",
       "F                         2.0                    700                200.0   \n",
       "G                         1.0                    500                 50.0   \n",
       "H                         0.5                    170                 40.0   \n",
       "I                         0.5                    135                 60.0   \n",
       "J                         0.5                    385                 70.0   \n",
       "K                         2.0                    540                 90.0   \n",
       "L                         1.5                    160                140.0   \n",
       "M                         0.0                      0                  0.0   \n",
       "\n",
       "      max_reduction_duration_weeks  task_start_at_week  \\\n",
       "task                                                     \n",
       "A                              0.5                 0.0   \n",
       "B                              2.0                 1.0   \n",
       "C                              0.5                 1.0   \n",
       "D                              0.0                 2.0   \n",
       "E                              0.5                 8.5   \n",
       "F                              1.0                 3.0   \n",
       "G                              2.0                 3.0   \n",
       "H                              0.5                 4.0   \n",
       "I                              1.0                 5.0   \n",
       "J                              0.5                 8.5   \n",
       "K                              1.0                 5.5   \n",
       "L                              0.5                 7.5   \n",
       "M                              0.0                 9.5   \n",
       "\n",
       "      task_duration_reduced_by  \n",
       "task                            \n",
       "A                          0.0  \n",
       "B                          2.0  \n",
       "C                          0.0  \n",
       "D                          0.0  \n",
       "E                          0.0  \n",
       "F                          1.0  \n",
       "G                          2.0  \n",
       "H                          0.0  \n",
       "I                          1.0  \n",
       "J                          0.0  \n",
       "K                          1.0  \n",
       "L                          0.0  \n",
       "M                          0.0  "
      ]
     },
     "metadata": {},
     "output_type": "display_data"
    }
   ],
   "source": [
    "if solverStatus == \"Optimal\":\n",
    "    # Print values of decision variables\n",
    "    df['task_start_at_week'] = [s[task].varValue for task in df.index]\n",
    "    df['task_duration_reduced_by'] = [r[task].varValue for task in df.index]\n",
    "    display(df)\n",
    "else:\n",
    "    print(\"Problem could not be solved. SolverStatus:\" + solverStatus )"
   ]
  },
  {
   "cell_type": "markdown",
   "metadata": {},
   "source": [
    "If we change type of decision variable r from Continuous to Integer, we see that its a Mixed Integer Programming Problem."
   ]
  },
  {
   "cell_type": "markdown",
   "metadata": {},
   "source": [
    "\n",
    "## Resources\n",
    "\n",
    "1. A Blending Problem - https://pythonhosted.org/PuLP/CaseStudies/a_blending_problem.html\n",
    "2. A Sudoku Problem formulated as an LP - https://pythonhosted.org/PuLP/CaseStudies/a_sudoku_problem.html\n",
    "3. Linear Programming with Python and PuLP - Part 3, 5 and 6 - http://benalexkeen.com/linear-programming-with-python-and-pulp-part-6/ \n",
    "4. Project task details from https://www.linearprogramming.info/formulation-and-resolution-of-a-model-of-linear-programming-to-reduce-the-duration-of-a-project-crashing/\n"
   ]
  }
 ],
 "metadata": {
  "kernelspec": {
   "display_name": "Python 2",
   "language": "python",
   "name": "python2"
  },
  "language_info": {
   "codemirror_mode": {
    "name": "ipython",
    "version": 2
   },
   "file_extension": ".py",
   "mimetype": "text/x-python",
   "name": "python",
   "nbconvert_exporter": "python",
   "pygments_lexer": "ipython2",
   "version": "2.7.14"
  }
 },
 "nbformat": 4,
 "nbformat_minor": 2
}
